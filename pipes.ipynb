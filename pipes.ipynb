{
 "cells": [
  {
   "cell_type": "code",
   "execution_count": 1,
   "metadata": {},
   "outputs": [],
   "source": [
    "# importing necesary libraries\n",
    "import cv2\n",
    "import numpy as np\n",
    "import argparse \n",
    "import matplotlib.pyplot as plt"
   ]
  },
  {
   "cell_type": "code",
   "execution_count": null,
   "metadata": {},
   "outputs": [
    {
     "name": "stdout",
     "output_type": "stream",
     "text": [
      "Number of pipes:  96\n"
     ]
    }
   ],
   "source": [
    "# load the image, make a copy for output, and then convert it to grayscale\n",
    "image = cv2.imread(\"pipe.jpeg\")\n",
    "output = image.copy()\n",
    "gray = cv2.cvtColor(image, cv2.COLOR_BGR2GRAY)\n",
    "gray_blur = cv2.blur(gray,(3,3))\n",
    "\n",
    "#to detect circles in the image\n",
    "circles = cv2.HoughCircles(gray_blur,cv2.HOUGH_GRADIENT, 1, 20, param1 = 50,param2 = 30, minRadius = 1, maxRadius = 32)\n",
    "\n",
    "#If circles present on image\n",
    "\n",
    "if circles is not None:\n",
    "    circles =  np.uint16(np.around(circles))\n",
    "    for circle in circles[0, :]: \n",
    "        a, b, r = circle[0], circle[1], circle[2] \n",
    "  \n",
    "        # Draw the circumference of the circle and giving green color. \n",
    "        cv2.circle(image, (a, b), r, (0, 255, 0), 2) \n",
    "  \n",
    "        # Draw a small circle (of radius 1) to show the center. \n",
    "    \n",
    "        cv2.circle(image, (a, b), 1, (0, 0, 255), 3) \n",
    "        count = len(circles[0,:])\n",
    "    cv2.imshow(\"Circle\", image) \n",
    "    print(\"Number of pipes: \",count)\n",
    "    cv2.waitKey(0) "
   ]
  },
  {
   "cell_type": "code",
   "execution_count": null,
   "metadata": {},
   "outputs": [],
   "source": []
  }
 ],
 "metadata": {
  "kernelspec": {
   "display_name": "Python 3",
   "language": "python",
   "name": "python3"
  },
  "language_info": {
   "codemirror_mode": {
    "name": "ipython",
    "version": 3
   },
   "file_extension": ".py",
   "mimetype": "text/x-python",
   "name": "python",
   "nbconvert_exporter": "python",
   "pygments_lexer": "ipython3",
   "version": "3.7.4"
  }
 },
 "nbformat": 4,
 "nbformat_minor": 2
}
